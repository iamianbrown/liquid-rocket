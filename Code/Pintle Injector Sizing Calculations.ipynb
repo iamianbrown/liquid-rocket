{
 "cells": [
  {
   "cell_type": "markdown",
   "metadata": {},
   "source": [
    "**The following notebook includes the following foundational calculations**\n",
    "    1. Skip distance calculation\n",
    "    2. Pintle diameter calculation\n",
    "    3. \n",
    "    4. Propellant discharge areas\n",
    "        - Orifice sizing\n",
    "        - Annular gap sizing\n",
    "    5. Blockage factor calculation\n",
    "    6. Total momentum ratio calculation\n",
    "    \n",
    "These calculations serve as a cornerstone for further, complex calculations that size pintle components on the basis of thermal and structural effects, i.e. these calcs are just the beginning. Further iterations of this code will reflect the effects of these analyses.\n",
    "\n",
    "**Contact: Bartosz Wielgos \n",
    "    @bartoszewielgos@gmail.com**\n",
    "    **224 659 9227**"
   ]
  },
  {
   "cell_type": "markdown",
   "metadata": {},
   "source": [
    "# 1) Propellant Discharge Areas\n",
    "\n",
    "For us to achieve our desired thrust and impingement properties, we need to figure out how much of each propellant (kilograms) we need to be injecting into our combustion chamber per some unit of time (seconds). Crucial to this are the sizes of the outlets of each propellant. \n",
    "\n",
    "For a pintle injector, these are the:\n",
    "    1) Annular gap\n",
    "    2) Orifices\n",
    "\n",
    "The important feature here is the total area of each propellants outlet at the exit point into the combustion chamber. In order to solve for this area, we use the following equation:\n",
    "\n",
    "$$ A = \\frac{\\dot{m}}{C_{d}\\sqrt{2\\rho \\Delta p}} $$\n",
    "\n",
    "    1) $ \\dot{m} $ is the mass flow rate for a particular propellant, determined in RPA\n",
    "    2) $\\Delta p$ is our pressure drop, determined as a design requirement\n",
    "    3) $C_{d}$ is the discharge coefficient, the ratio of the actual discharge to the theoretical discharge\n",
    "    4) $\\rho$ is the density of the propellant\n",
    "\n",
    "We need the annular gap and orifices to sum to an area equal to their respective discharge areas."
   ]
  },
  {
   "cell_type": "code",
   "execution_count": 2,
   "metadata": {},
   "outputs": [
    {
     "name": "stdout",
     "output_type": "stream",
     "text": [
      "Oxidizer discharge area = 34.5060014529346 mm^2\n"
     ]
    }
   ],
   "source": [
    "import numpy as np\n",
    "import matplotlib.pyplot as plt\n",
    "from math import trunc\n",
    "\n",
    "mo_dot = 0.91816 #kg s-1\n",
    "rho_o = 1141 #kg m-3, at boiling point\n",
    "C_d = 0.75 #unitless, determined from experience for a sharp edged orifices\n",
    "delta_P = 551581 #Pa\n",
    "d_P = 31.75 #mm, to be used to calc blockage factor\n",
    "\n",
    "A_o = (mo_dot / (C_d*np.sqrt(2*rho_o*delta_P)))*1000000\n",
    "\n",
    "print('Oxidizer discharge area = {} mm^2'.format(A_o))"
   ]
  },
  {
   "cell_type": "code",
   "execution_count": 3,
   "metadata": {},
   "outputs": [
    {
     "name": "stdout",
     "output_type": "stream",
     "text": [
      "For the given drill bit sizes, 30.0 pairs of orifices are needed\n",
      "The percent error that arises due to rounding is 1.1893854315985932%\n"
     ]
    }
   ],
   "source": [
    "d1 = 0.9065 #mm\n",
    "d2 = 0.8125 #mm\n",
    "\n",
    "a1 = np.pi*((d1*0.5)**2)\n",
    "a2 = np.pi*((d2*0.5)**2)\n",
    "\n",
    "orifice_pair = a1 + a2\n",
    "\n",
    "#Now, we see how many orifice_pairs we need to math the LOx injection area:\n",
    "\n",
    "n_orifice_pair = round(A_o / orifice_pair) \n",
    "\n",
    "#And checking the percent error of our rounded number of orifice pairs to the ideal:\n",
    "\n",
    "percent_error = 100*(n_orifice_pair - (A_o / orifice_pair)) / (A_o / orifice_pair)\n",
    "\n",
    "print('For the given drill bit sizes, {} pairs of orifices are needed'.format(n_orifice_pair))\n",
    "print('The percent error that arises due to rounding is {}%'.format(percent_error))"
   ]
  },
  {
   "cell_type": "code",
   "execution_count": 4,
   "metadata": {},
   "outputs": [
    {
     "name": "stdout",
     "output_type": "stream",
     "text": [
      "0.5170154592282861\n"
     ]
    }
   ],
   "source": [
    "#We can verify that the blockage factor of this orifice configuration lies between the empirically defined, optimal range of 0.2 - 0.7\n",
    "\n",
    "BF = (n_orifice_pair*(d1 + d2)) / (2*np.pi*(d_P*0.5))\n",
    "print(BF)"
   ]
  },
  {
   "cell_type": "markdown",
   "metadata": {},
   "source": [
    "# TMR Calculation"
   ]
  },
  {
   "cell_type": "markdown",
   "metadata": {},
   "source": [
    "TMR, or Total Momentum Ratio, is the ratio between the momentum of the radial flow to the momentum of the axial flow. TMR is calculated as such:\n",
    "\n",
    "$$ TMR = \\frac{(\\dot{m}V)_{r}}{(\\dot{m}V)_{z}} $$\n",
    "\n",
    "RP1 is our radial flow, and LOx is our axial flow. We have $\\dot{m_{r}}$, our oxidizer mass flow rate, and $\\dot{m_{z}}$, our fuel mass flow rate. RPA gives us these values.\n",
    "\n",
    "**To find the exit velocity** of each propellant stream, we can use our discharge equation (as used to find propellant injection areas for the annular gap and orifices), and replace $\\dot{m}$ with the equation of mass flow rate:\n",
    "\n",
    "$$ \\dot{m} = \\rho AV $$\n",
    "\n",
    "So, take the discharge area equation:\n",
    "\n",
    "$$ A = \\frac{\\dot{m}}{C_{d}\\sqrt{2\\rho \\Delta p}} $$\n",
    "\n",
    "Plug in:\n",
    "\n",
    "$$ \\dot{m} = \\rho AV $$\n",
    "\n",
    "And solve for V:\n",
    "\n",
    "$$ V_{injection} = C_{d} \\sqrt{\\frac{2 \\Delta p}{\\rho}} $$\n",
    "\n",
    "We have all the terms necessary to solve for velocities."
   ]
  },
  {
   "cell_type": "code",
   "execution_count": 5,
   "metadata": {},
   "outputs": [
    {
     "name": "stdout",
     "output_type": "stream",
     "text": [
      "The exit velocity of LOx through the orifices in the radial direction is 23.32051236803772 m/s\n",
      "The exit velocity of RP1 through the annular gap in the axial direction is 27.6782355330361 m/s\n"
     ]
    }
   ],
   "source": [
    "delta_P = 551581 #Pa\n",
    "C_d = 0.75\n",
    "rho_f = 810      #kg/m^3\n",
    "rho_o = 1141     #kg/m^3\n",
    "mdot_f =0.408    #kg/s\n",
    "mdot_o = 0.918   #kg/s\n",
    "\n",
    "\n",
    "mdot_r = mdot_o\n",
    "mdot_z = mdot_f\n",
    "\n",
    "#Radial flow exit velocity (LOx)\n",
    "\n",
    "V_r = C_d*np.sqrt((2*delta_P)/rho_o)\n",
    "\n",
    "#Axial flow exit velocity (RP1)\n",
    "\n",
    "V_z = C_d*np.sqrt((2*delta_P/rho_f))\n",
    "\n",
    "print('The exit velocity of LOx through the orifices in the radial direction is {} m/s'.format(V_r))\n",
    "print('The exit velocity of RP1 through the annular gap in the axial direction is {} m/s'.format(V_z))"
   ]
  },
  {
   "cell_type": "markdown",
   "metadata": {},
   "source": [
    "We solved for our exit velocities, and we have the mass flow rates. Finally, solve for the Total Momentum Ratio:"
   ]
  },
  {
   "cell_type": "code",
   "execution_count": 6,
   "metadata": {},
   "outputs": [
    {
     "name": "stdout",
     "output_type": "stream",
     "text": [
      "The total momentum ratio is 1.895754979231119\n"
     ]
    }
   ],
   "source": [
    "TMR = (V_r * mdot_r) / (V_z*mdot_z)\n",
    "print('The total momentum ratio is {}'.format(TMR))"
   ]
  },
  {
   "cell_type": "markdown",
   "metadata": {},
   "source": [
    "# Annular Gap Tolerancing"
   ]
  },
  {
   "cell_type": "code",
   "execution_count": 42,
   "metadata": {},
   "outputs": [
    {
     "data": {
      "image/png": "[encoded data removed]",
      "text/plain": [
       "<Figure size 432x288 with 1 Axes>"
      ]
     },
     "metadata": {
      "needs_background": "light"
     },
     "output_type": "display_data"
    }
   ],
   "source": [
    "V_o = V_z\n",
    "\n",
    "A = np.linspace(10/1000000, 50/1000000, 1000)\n",
    "v_exit = (mdot_o / (rho_o*A));\n",
    "\n",
    "plt.plot(A, v_exit, label = 'Area-Velocity Relation')\n",
    "plt.axhline(y = V_o, label = 'Current Theoretical Velocity', c = 'red')\n",
    "plt.xlabel('Discharge Area (mm^2)')\n",
    "plt.ylabel('Injection Velocity (m/s)')\n",
    "plt.legend()\n",
    "plt.show()"
   ]
  },
  {
   "cell_type": "code",
   "execution_count": null,
   "metadata": {},
   "outputs": [],
   "source": []
  },
  {
   "cell_type": "code",
   "execution_count": null,
   "metadata": {},
   "outputs": [],
   "source": []
  },
  {
   "cell_type": "code",
   "execution_count": null,
   "metadata": {},
   "outputs": [],
   "source": []
  }
 ],
 "metadata": {
  "kernelspec": {
   "display_name": "Python 3",
   "language": "python",
   "name": "python3"
  },
  "language_info": {
   "codemirror_mode": {
    "name": "ipython",
    "version": 3
   },
   "file_extension": ".py",
   "mimetype": "text/x-python",
   "name": "python",
   "nbconvert_exporter": "python",
   "pygments_lexer": "ipython3",
   "version": "3.7.3"
  }
 },
 "nbformat": 4,
 "nbformat_minor": 2
}
